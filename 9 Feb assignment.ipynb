{
 "cells": [
  {
   "cell_type": "code",
   "execution_count": 32,
   "id": "60b9929d-ea70-45f6-842d-9eead1e389b7",
   "metadata": {},
   "outputs": [],
   "source": [
    "# Q1, Create a vehicle class with an init method having instance variables as name_of_vehicle, max_speed and average_of_vehicle. \n",
    "# ans->\n",
    "\n",
    "class vehicle:\n",
    "    \n",
    "    def __init__(self,name_of_vehicle,max_speed,average_of_vehicle):\n",
    "        self.name_of_vehicle=name_of_vehicle\n",
    "        self.max_speed=max_speed\n",
    "        self.average_of_vehicle=average_of_vehicle\n",
    "        \n",
    "    def return_vehicle_detail(self):\n",
    "        return self.name_of_vehicle,self.max_speed,self.average_of_vehicle"
   ]
  },
  {
   "cell_type": "code",
   "execution_count": 33,
   "id": "ddb3f56a-072d-4207-bd41-2bc66955ef4f",
   "metadata": {},
   "outputs": [],
   "source": [
    "details=vehicle(\"ducati\",250,25)"
   ]
  },
  {
   "cell_type": "code",
   "execution_count": 34,
   "id": "8aaa2e9c-bd1c-4cd6-9bab-bf28abaafd69",
   "metadata": {},
   "outputs": [
    {
     "data": {
      "text/plain": [
       "25"
      ]
     },
     "execution_count": 34,
     "metadata": {},
     "output_type": "execute_result"
    }
   ],
   "source": [
    "details.average_of_vehicle"
   ]
  },
  {
   "cell_type": "code",
   "execution_count": 35,
   "id": "7c693464-529c-4f46-87dc-4e11dbda58c5",
   "metadata": {},
   "outputs": [
    {
     "data": {
      "text/plain": [
       "250"
      ]
     },
     "execution_count": 35,
     "metadata": {},
     "output_type": "execute_result"
    }
   ],
   "source": [
    "details.max_speed"
   ]
  },
  {
   "cell_type": "code",
   "execution_count": 36,
   "id": "af523490-5447-4acd-a336-e152b83c1db9",
   "metadata": {},
   "outputs": [
    {
     "data": {
      "text/plain": [
       "'ducati'"
      ]
     },
     "execution_count": 36,
     "metadata": {},
     "output_type": "execute_result"
    }
   ],
   "source": [
    "details.name_of_vehicle"
   ]
  },
  {
   "cell_type": "code",
   "execution_count": 38,
   "id": "6d7f1797-270e-481a-bdd8-0941a6324b35",
   "metadata": {},
   "outputs": [],
   "source": [
    "# Q2.  Create a child class car from the vehicle class created in Que 1, which will inherit the vehicle class.\n",
    "#      Create a method named seating_capacity which takes capacity as an argument and returns the name of the vehicle and its seating capacity.\n",
    "\n",
    "# ans->\n",
    "class vehicle_1:\n",
    "    \n",
    "    def __init__(self,seating_capacity):\n",
    "        self.seating_capacity=seating_capacity\n",
    "        \n",
    "    def set_seating_capacity(self,seaating_capacity):\n",
    "        self.seating_capacity=seaating_capacity\n",
    "        \n",
    "    def get_seating_capacity(self):\n",
    "        return self.seating_capacity"
   ]
  },
  {
   "cell_type": "code",
   "execution_count": 39,
   "id": "2dec01a5-1927-4933-b774-e80a6a408f4f",
   "metadata": {},
   "outputs": [],
   "source": [
    "class vehicle_2(vehicle,vehicle_1):\n",
    "    \n",
    "    def get_seating_capacity(self):\n",
    "        return self.seating_capacity,self.name_of_vehicle\n",
    "    "
   ]
  },
  {
   "cell_type": "code",
   "execution_count": 40,
   "id": "1a2c1331-de0e-4a88-9a62-a17d92605d54",
   "metadata": {},
   "outputs": [],
   "source": [
    "d=vehicle_2(\"pulsar\",250,40)"
   ]
  },
  {
   "cell_type": "code",
   "execution_count": 41,
   "id": "29ec34b6-c6df-42a5-b940-ce5dbe73d280",
   "metadata": {},
   "outputs": [],
   "source": [
    "d.set_seating_capacity(3)"
   ]
  },
  {
   "cell_type": "code",
   "execution_count": 42,
   "id": "9dbba8a6-eee8-4862-89cc-1528ce8e16a7",
   "metadata": {},
   "outputs": [
    {
     "data": {
      "text/plain": [
       "(3, 'pulsar')"
      ]
     },
     "execution_count": 42,
     "metadata": {},
     "output_type": "execute_result"
    }
   ],
   "source": [
    "d.get_seating_capacity()"
   ]
  },
  {
   "cell_type": "code",
   "execution_count": null,
   "id": "430e8369-df1a-4b8b-8a77-c0d520247fd9",
   "metadata": {},
   "outputs": [],
   "source": []
  },
  {
   "cell_type": "code",
   "execution_count": 1,
   "id": "4c543c47-2446-44c9-980a-20db5b487a05",
   "metadata": {},
   "outputs": [],
   "source": [
    "# Q3. What is multiple inheritance? Write a python code to demonstrate multiple inheritance.\n",
    "\n",
    "# ans->  If a child class inherits from more than one class.\n",
    "\n",
    "class praveen:\n",
    "    \n",
    "    def detail(self):\n",
    "        return \"details of praveen\""
   ]
  },
  {
   "cell_type": "code",
   "execution_count": 2,
   "id": "b11dd9f1-6ced-4125-885e-79ae65d5b684",
   "metadata": {},
   "outputs": [],
   "source": [
    "class pandey:\n",
    "    \n",
    "    def detail_1(self):\n",
    "        return \"details of praveen_1\""
   ]
  },
  {
   "cell_type": "code",
   "execution_count": 3,
   "id": "565879e6-cb8e-4b79-9aaf-f7627325108a",
   "metadata": {},
   "outputs": [],
   "source": [
    "class pramod(praveen,pandey):\n",
    "    pass\n"
   ]
  },
  {
   "cell_type": "code",
   "execution_count": 4,
   "id": "ee8f9e53-6ff2-4fdb-8f26-36b9d67737bf",
   "metadata": {},
   "outputs": [],
   "source": [
    "pra=pramod()"
   ]
  },
  {
   "cell_type": "code",
   "execution_count": 5,
   "id": "7572f147-6952-4784-a705-e651d5cb302e",
   "metadata": {},
   "outputs": [
    {
     "data": {
      "text/plain": [
       "'details of praveen'"
      ]
     },
     "execution_count": 5,
     "metadata": {},
     "output_type": "execute_result"
    }
   ],
   "source": [
    "pra.detail()"
   ]
  },
  {
   "cell_type": "code",
   "execution_count": 6,
   "id": "40833ad1-0d66-4272-94f0-db0054b6d035",
   "metadata": {},
   "outputs": [
    {
     "data": {
      "text/plain": [
       "'details of praveen_1'"
      ]
     },
     "execution_count": 6,
     "metadata": {},
     "output_type": "execute_result"
    }
   ],
   "source": [
    "pra.detail_1()"
   ]
  },
  {
   "cell_type": "code",
   "execution_count": null,
   "id": "cd330232-8ff6-44fa-a54d-0a4f87f83b1b",
   "metadata": {},
   "outputs": [],
   "source": []
  },
  {
   "cell_type": "code",
   "execution_count": 7,
   "id": "c3e05bc5-7626-46d3-8527-21bff73be918",
   "metadata": {},
   "outputs": [],
   "source": [
    "# Q4. What are getter and setter in python? Create a class and create a getter and a setter method in this class.\n",
    "\n",
    "# ans-> Getter: A method that allows you to access an attribute in a given class.\n",
    "#       Setter: A method that allows you to set or mutate the value of an attribute in a class.\n",
    "\n",
    "class name:\n",
    "    \n",
    "    def __init__(self,name,age):\n",
    "        self.__name=name\n",
    "        self.__age=age\n",
    "        \n",
    "    def set_name(self,name):\n",
    "        self.name=name\n",
    "    \n",
    "    def get_name(self):\n",
    "        return self.name\n",
    "    \n",
    "    def set_age(self,age):\n",
    "        self.age=age\n",
    "     \n",
    "    def get_age(self):\n",
    "        return self.age\n",
    "        "
   ]
  },
  {
   "cell_type": "code",
   "execution_count": 10,
   "id": "6cb786ea-8e0c-499a-bf95-ccbda02585ee",
   "metadata": {},
   "outputs": [],
   "source": [
    "d.set_age(21)"
   ]
  },
  {
   "cell_type": "code",
   "execution_count": 11,
   "id": "814e54af-af67-4d01-a5e2-59ad9da8ac50",
   "metadata": {},
   "outputs": [],
   "source": [
    "d.set_name(\"praveen\")"
   ]
  },
  {
   "cell_type": "code",
   "execution_count": 12,
   "id": "b33e4206-205f-4bdd-8768-139bf26ab4cd",
   "metadata": {},
   "outputs": [
    {
     "data": {
      "text/plain": [
       "'praveen'"
      ]
     },
     "execution_count": 12,
     "metadata": {},
     "output_type": "execute_result"
    }
   ],
   "source": [
    "d.get_name()"
   ]
  },
  {
   "cell_type": "code",
   "execution_count": 13,
   "id": "186213ca-9a08-4ad3-a26f-5be89bde95e3",
   "metadata": {},
   "outputs": [
    {
     "data": {
      "text/plain": [
       "21"
      ]
     },
     "execution_count": 13,
     "metadata": {},
     "output_type": "execute_result"
    }
   ],
   "source": [
    "d.get_age()"
   ]
  },
  {
   "cell_type": "code",
   "execution_count": null,
   "id": "cbae7843-9359-42df-a275-8a659cb05ec4",
   "metadata": {},
   "outputs": [],
   "source": []
  },
  {
   "cell_type": "code",
   "execution_count": 14,
   "id": "7d87541a-e994-4753-90ef-776351f213b5",
   "metadata": {},
   "outputs": [],
   "source": [
    "# Q5.What is method overriding in python? Write a python code to demonstrate method overriding.\n",
    "# ans-> Method overriding is a feature of object-oriented programming languages where the subclass or child class can provide the program with specific characteristics\n",
    "#       or a specific implementation process of data provided that are already defined in the parent class or superclass.\n",
    "\n",
    "# ans->\n",
    "class praveen:\n",
    "    \n",
    "    def detail(self):\n",
    "        return \"details of praveen\""
   ]
  },
  {
   "cell_type": "code",
   "execution_count": 15,
   "id": "381b4b47-998c-4e17-b842-450a09b388a6",
   "metadata": {},
   "outputs": [],
   "source": [
    "class pandey:\n",
    "    \n",
    "    def detail_1(self):\n",
    "        return \"details of praveen_1\""
   ]
  },
  {
   "cell_type": "code",
   "execution_count": 43,
   "id": "eda87a45-5785-46c3-8e2d-4f487e0745cd",
   "metadata": {},
   "outputs": [],
   "source": [
    "class pramod(praveen,pandey):\n",
    "    \n",
    "    def detail_1(self):\n",
    "        return \"details of pramod\""
   ]
  },
  {
   "cell_type": "code",
   "execution_count": 44,
   "id": "6dc77212-aa15-4d74-8045-b0a72f932120",
   "metadata": {},
   "outputs": [],
   "source": [
    "pra1=pramod()"
   ]
  },
  {
   "cell_type": "code",
   "execution_count": 45,
   "id": "c30207e0-08f8-4cab-bbad-d228bf759467",
   "metadata": {},
   "outputs": [
    {
     "data": {
      "text/plain": [
       "'details of pramod'"
      ]
     },
     "execution_count": 45,
     "metadata": {},
     "output_type": "execute_result"
    }
   ],
   "source": [
    "pra1.detail_1()"
   ]
  },
  {
   "cell_type": "code",
   "execution_count": 47,
   "id": "775faa5d-92f1-4013-ac9d-ded31eaf7015",
   "metadata": {},
   "outputs": [
    {
     "data": {
      "text/plain": [
       "'details of praveen'"
      ]
     },
     "execution_count": 47,
     "metadata": {},
     "output_type": "execute_result"
    }
   ],
   "source": [
    "pra1.detail()"
   ]
  },
  {
   "cell_type": "code",
   "execution_count": 48,
   "id": "a3e26ec6-9eb4-4106-a11e-a7208a6889ae",
   "metadata": {},
   "outputs": [
    {
     "data": {
      "text/plain": [
       "'details of pramod'"
      ]
     },
     "execution_count": 48,
     "metadata": {},
     "output_type": "execute_result"
    }
   ],
   "source": [
    "pra1.detail_1()"
   ]
  },
  {
   "cell_type": "code",
   "execution_count": null,
   "id": "d2a30de1-39c5-48e0-8a85-f48b64834f0f",
   "metadata": {},
   "outputs": [],
   "source": []
  }
 ],
 "metadata": {
  "kernelspec": {
   "display_name": "Python 3 (ipykernel)",
   "language": "python",
   "name": "python3"
  },
  "language_info": {
   "codemirror_mode": {
    "name": "ipython",
    "version": 3
   },
   "file_extension": ".py",
   "mimetype": "text/x-python",
   "name": "python",
   "nbconvert_exporter": "python",
   "pygments_lexer": "ipython3",
   "version": "3.10.8"
  }
 },
 "nbformat": 4,
 "nbformat_minor": 5
}

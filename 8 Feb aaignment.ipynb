{
 "cells": [
  {
   "cell_type": "code",
   "execution_count": 1,
   "id": "e1ca0101-e65d-49e6-bffe-1035f1c71931",
   "metadata": {},
   "outputs": [],
   "source": [
    "# Q1. What is Abstraction in OOps? Explain with an example.\n",
    "# Ans-> Abstraction in python is defined as a process of handling complexity by hiding unnecessary information from the user.\n",
    "#       This is one of the core concepts of object-oriented programming (OOP) languages.it is just like blue print or skeleton for the program.\n",
    "\n",
    "import abc\n",
    "\n",
    "class abs_1:\n",
    "    \n",
    "    @abc.abstractmethod\n",
    "    def emp_detail(self):\n",
    "        pass\n",
    "    \n",
    "    @abc.abstractmethod\n",
    "    def emp_work(self):\n",
    "        pass\n",
    "    \n",
    "    @abc.abstractmethod\n",
    "    def emp_salary(self):\n",
    "        pass\n",
    "    \n"
   ]
  },
  {
   "cell_type": "code",
   "execution_count": 7,
   "id": "516e3568-9ba9-4dfe-b12b-94a478f3eea0",
   "metadata": {},
   "outputs": [],
   "source": [
    "class praveen(abs_1):\n",
    "    \n",
    "    def emp_detail(self):\n",
    "        return \"emp is praveen\"\n",
    "    \n",
    "    def emp_salary(self):\n",
    "        return \"emp salary is 50,000\"\n",
    "    \n",
    "    def emp_work(self):\n",
    "        return \"software engineer\""
   ]
  },
  {
   "cell_type": "code",
   "execution_count": 8,
   "id": "22b6b759-9d77-40a5-9d9d-5058f78168b9",
   "metadata": {},
   "outputs": [],
   "source": [
    "class pandey(abs_1):\n",
    "    \n",
    "    def emp_detail(self):\n",
    "        return \"emp is pandey\"\n",
    "    \n",
    "    def emp_salary(self):\n",
    "        return \"emp salary is 10,000\"\n",
    "    \n",
    "    def emp_work(self):\n",
    "        return \"emp work is tester\""
   ]
  },
  {
   "cell_type": "code",
   "execution_count": 9,
   "id": "485d40ef-8f13-444b-a8d5-7ed99ba651ae",
   "metadata": {},
   "outputs": [
    {
     "data": {
      "text/plain": [
       "'emp salary is 50,000'"
      ]
     },
     "execution_count": 9,
     "metadata": {},
     "output_type": "execute_result"
    }
   ],
   "source": [
    "pr=praveen()\n",
    "pr.emp_salary()"
   ]
  },
  {
   "cell_type": "code",
   "execution_count": 10,
   "id": "698ed191-cd40-4ab0-a9b1-73dcd7e9f049",
   "metadata": {},
   "outputs": [
    {
     "data": {
      "text/plain": [
       "'emp salary is 10,000'"
      ]
     },
     "execution_count": 10,
     "metadata": {},
     "output_type": "execute_result"
    }
   ],
   "source": [
    "pa=pandey()\n",
    "pa.emp_salary()"
   ]
  },
  {
   "cell_type": "code",
   "execution_count": null,
   "id": "88120c45-adca-4da1-8b47-7f12e2dd01f5",
   "metadata": {},
   "outputs": [],
   "source": []
  },
  {
   "cell_type": "code",
   "execution_count": null,
   "id": "dc040c58-4233-432a-b2f7-7f2cadf6482c",
   "metadata": {},
   "outputs": [],
   "source": [
    "# Q2. Differentiate between Abstraction and Encapsulation.\n",
    "# Ans-> \n",
    "\n",
    "#  Abstraction:-  1.Abstraction is hiding the details and implementation of the code.\n",
    "#               2.Abstraction is a design level process.\n",
    "#               3.Abstraction is concerned about what a class instance can do, instead of the implementation of the class.\n",
    "#               4.Abstraction is a design level process and it is used to reduce the complexity at the designing stage of a project.\n",
    "\n",
    "#  Encapsulation:- 1.Encapsulation is an implementation level process.\n",
    "#                  2.Encapsulation helps in data binding and control over maintaining the transparency of the data.\n",
    "#                  3.Encapsulation is an implementation level process, and it is used to provide privacy and maintain control over the transparency of data \n",
    "#                   at the implementation stage of a project."
   ]
  },
  {
   "cell_type": "code",
   "execution_count": null,
   "id": "ec22973e-a2ff-4f88-ad10-2984151087af",
   "metadata": {},
   "outputs": [],
   "source": []
  },
  {
   "cell_type": "code",
   "execution_count": null,
   "id": "49799f8f-00d6-4df8-b3d3-d510531eb655",
   "metadata": {},
   "outputs": [],
   "source": [
    "#3.  What is abc module in python? Why is it used?\n",
    "\n",
    "#Ans->The 'abc' module in Python library provides the infrastructure for defining custom abstract base classes.\n",
    "#    The abc module defines ABCMeta class which is a metaclass for defining abstract base class. Following example \n",
    "#    defines Shape class as an abstract base class using ABCMeta. "
   ]
  },
  {
   "cell_type": "code",
   "execution_count": null,
   "id": "ce90f75f-9042-4320-a430-cbaa45d3219b",
   "metadata": {},
   "outputs": [],
   "source": []
  },
  {
   "cell_type": "code",
   "execution_count": null,
   "id": "bdbf6513-d9c3-4040-b120-880079006ff1",
   "metadata": {},
   "outputs": [],
   "source": [
    "# Q4. How can we achieve data abstraction?\n",
    "# Ans->  In Python, abstraction can be achieved by having/using abstract classes and methods in our programs.\n",
    "#         An abstract method is a method that is declared, but does not contain implementation.\n",
    "#        A class containing abstract methods is called abstract class.Python provides the abc module to use the abstraction in the Python program, syntax as:\n",
    "\n",
    "from abc import ABC,   \n",
    "class ClassName(ABC):\n"
   ]
  },
  {
   "cell_type": "code",
   "execution_count": null,
   "id": "6ac664b3-da5b-47b9-a532-273be4318f4f",
   "metadata": {},
   "outputs": [],
   "source": []
  },
  {
   "cell_type": "code",
   "execution_count": null,
   "id": "3390be26-c58a-411a-a8ab-5a09285746fd",
   "metadata": {},
   "outputs": [],
   "source": [
    "# Q5. Can we create an instance of an abstract class? Explain your answer.\n",
    "# Ans->\n",
    "\"\"\"In Python, abstract base classes provide a blueprint for concrete classes.\n",
    "They don’t contain implementation. Instead, they provide an interface and make sure that derived concrete classes are properly implemented.\n",
    "\n",
    "Abstract base classes cannot be instantiated. Instead, they are inherited and extended by the concrete subclasses.\n",
    "Subclasses derived from a specific abstract base class must implement the methods and properties provided in that\n",
    "abstract base class. Otherwise, an error is raised during the object instantiation.\"\"\""
   ]
  }
 ],
 "metadata": {
  "kernelspec": {
   "display_name": "Python 3 (ipykernel)",
   "language": "python",
   "name": "python3"
  },
  "language_info": {
   "codemirror_mode": {
    "name": "ipython",
    "version": 3
   },
   "file_extension": ".py",
   "mimetype": "text/x-python",
   "name": "python",
   "nbconvert_exporter": "python",
   "pygments_lexer": "ipython3",
   "version": "3.10.8"
  }
 },
 "nbformat": 4,
 "nbformat_minor": 5
}

{
 "cells": [
  {
   "cell_type": "code",
   "execution_count": null,
   "id": "11173b09-0c41-4ef5-9ac9-674b96090f93",
   "metadata": {},
   "outputs": [],
   "source": [
    "# Q1. what is multithreading in python? why is it used? Name the module used to handle threads in python?\n",
    "# Ans-> Multithreading refers to concurrently executing multiple threads by rapidly switching the control of the CPU between threads.\n",
    "\n",
    "#       Multithreading in Python streamlines the efficient utilization of resources as the threads share the same memory and data space.\n",
    "#       It also allows the concurrent appearance of multiple tasks and reduces the response time. This improves the performance.\n",
    "\n",
    "#       threding module is used to handle threads in python."
   ]
  },
  {
   "cell_type": "code",
   "execution_count": null,
   "id": "ec0ad637-68d8-4d0d-aea8-4b9093909740",
   "metadata": {},
   "outputs": [],
   "source": []
  },
  {
   "cell_type": "code",
   "execution_count": null,
   "id": "898447a4-c16d-43b3-90c5-23cb8375a769",
   "metadata": {},
   "outputs": [],
   "source": [
    "# Q2. why threading module used? write the use of the following functions?\n",
    "# a. activeCount()\n",
    "# b. currentThread()\n",
    "# c. enumerate()\n",
    "\n",
    "# Ans->\n",
    "''' Python threading allows you to have different parts of your program run concurrently and can simplify your design.\n",
    "\n",
    "a-> In Python, the method threading.active_co unt() from the threading module is used to count the currently active or running threads.\n",
    "\n",
    "b-> current_thread() is an inbuilt method of the threading module in Python. It is used to return the current Thread object, which corresponds to the caller's thread of control.\n",
    "\n",
    "c-> when dealing with iterators, we also get need to keep a count of iterations. Python eases the programmers’ task by providing a built-in function enumerate() for this task. Enumerate() \n",
    "    method adds a counter to an iterable and returns it in a form of enumerating object.'''"
   ]
  },
  {
   "cell_type": "code",
   "execution_count": null,
   "id": "3ae41898-3ab7-4fef-95bb-b1bae4336920",
   "metadata": {},
   "outputs": [],
   "source": []
  },
  {
   "cell_type": "code",
   "execution_count": null,
   "id": "16374486-e344-4991-b283-3d60a439b2dc",
   "metadata": {},
   "outputs": [],
   "source": [
    "# 3. Explain the following functions?\n",
    "# a) run()\n",
    "# ans-> run() method executes any target function belonging to a given thread object that is now active.\n",
    "\n",
    "# b) start()\n",
    "# ans-> start() method is an inbuilt method of the Thread class of the threading module in Python. It is used to start a thread's activity.\n",
    "#       This method calls the run() method internally which then executes the target method.\n",
    "\n",
    "# c) join()\n",
    "# ans-> Join() in Python is an in-built method used to join an iterable’s elements, separated by a string separator, which is specified by you. Thus, whenever you want to \n",
    "#         join the elements of an iterable and make it a string, you can use the string join in Python.\n",
    "\n",
    "# d) isAlive()\n",
    "# ans-> Thread.is_alive() method is an inbuilt method of the Thread class of the threading module in Python. It uses a Thread object, and checks whether that thread\n",
    "#       is alive or not, ie, it is still running or not.This method returns True before the run() starts until just after the run() method is executed.\n"
   ]
  },
  {
   "cell_type": "code",
   "execution_count": null,
   "id": "aa17c371-de0f-42c4-b161-a386036ede31",
   "metadata": {},
   "outputs": [],
   "source": []
  },
  {
   "cell_type": "code",
   "execution_count": 13,
   "id": "7ad5ca1b-989b-4219-a5e2-ae56cbdce491",
   "metadata": {},
   "outputs": [],
   "source": [
    "# 4.  write a python program to create two threads. Thread one must print the list of squares and thread two must print the list of cubes?\n",
    "# ans->  \n",
    "import threading \n",
    "\n",
    "def print_cube(num):\n",
    "    print(\"cube is {}\".format(num*num*num))\n",
    "    \n",
    "def print_sq(num):\n",
    "    print(\"square is {}\".format(num*num))\n",
    " \n",
    "t1= threading.Thread(target=print_sq,args=(10,))\n",
    "t2= threading.Thread(target=print_cube,args=(10,))"
   ]
  },
  {
   "cell_type": "code",
   "execution_count": 14,
   "id": "aff59693-5b7c-46c2-b667-75129997575f",
   "metadata": {},
   "outputs": [
    {
     "name": "stdout",
     "output_type": "stream",
     "text": [
      "square is 100\n"
     ]
    }
   ],
   "source": [
    "t1.start()"
   ]
  },
  {
   "cell_type": "code",
   "execution_count": 15,
   "id": "3caaa55e-1c7d-42b5-8c9d-e7e3edfe15c1",
   "metadata": {},
   "outputs": [
    {
     "name": "stdout",
     "output_type": "stream",
     "text": [
      "cube is 1000\n"
     ]
    }
   ],
   "source": [
    "t2.start()"
   ]
  },
  {
   "cell_type": "code",
   "execution_count": null,
   "id": "5af4c1ae-b52f-40fd-8adf-db600b54a9bb",
   "metadata": {},
   "outputs": [],
   "source": [
    "# 5. State advantages and disadvantages of multithreading?\n",
    "# ans-> \n",
    "# advantages\n",
    "'''1.Threads minimize the context switching time.\n",
    "2.Use of threads provides concurrency within a process.\n",
    "3.Efficient communication.\n",
    "4.It is more economical to create and context switch threads.\n",
    "5.Threads allow utilization of multiprocessor architectures to a greater scale and efficiency.'''\n",
    "\n",
    "# disavantages\n",
    "''' 1.Difficulty of writing code.\n",
    "2. Difficulty of debugging.\n",
    "3. Difficulty of managing concurrency.\n",
    "4. Difficulty of testing.\n",
    "5. Difficulty of porting existing code.\n",
    "'''"
   ]
  },
  {
   "cell_type": "code",
   "execution_count": null,
   "id": "12195a90-a344-4a4c-a754-fbb2243f6e7d",
   "metadata": {},
   "outputs": [],
   "source": [
    "# 6. Explain deadlocks and race conditions.\n",
    "# ans->\n",
    "# deadlocks\n",
    "'''A deadlock is a concurrency failure mode where a thread or threads wait for a condition that never occurs.\n",
    "The result is that the deadlock threads are unable to progress and the program is stuck or frozen and must be terminated forcefully.'''\n",
    "\n",
    "# race conditions\n",
    "'''\n",
    "A race condition is an undesirable situation that occurs when a device or system attempts to perform two or more operations at the same time, but because of the nature of \n",
    "the device or system, the operations must be done in the proper sequence to be done correctly.\n",
    "'''"
   ]
  }
 ],
 "metadata": {
  "kernelspec": {
   "display_name": "Python 3 (ipykernel)",
   "language": "python",
   "name": "python3"
  },
  "language_info": {
   "codemirror_mode": {
    "name": "ipython",
    "version": 3
   },
   "file_extension": ".py",
   "mimetype": "text/x-python",
   "name": "python",
   "nbconvert_exporter": "python",
   "pygments_lexer": "ipython3",
   "version": "3.10.8"
  }
 },
 "nbformat": 4,
 "nbformat_minor": 5
}

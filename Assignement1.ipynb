{
 "cells": [
  {
   "cell_type": "markdown",
   "id": "4147e02c-34da-4378-a991-a0333e8fc7f0",
   "metadata": {},
   "source": [
    "Q1.Who developed python programming language?\n",
    "\n",
    "Ans=>Guido van Rossum developed python programming language."
   ]
  },
  {
   "cell_type": "code",
   "execution_count": null,
   "id": "b46c1b74-cf69-4668-8ea7-998044ae9bc9",
   "metadata": {},
   "outputs": [],
   "source": [
    "Q2.Which type of programming does python supports?\n",
    "\n",
    "Ans=>Object-oriented programming and structured programming are fully supported,\n",
    "and many of their features support functional programming\n",
    "and aspect-oriented programming (including metaprogramming and metaobjects)."
   ]
  },
  {
   "cell_type": "code",
   "execution_count": null,
   "id": "bc9d26b1-dad0-492c-ac03-69832b68c9ff",
   "metadata": {},
   "outputs": [],
   "source": [
    "Q3.is python case sensitive when dealing with identifiers?\n",
    "\n",
    "Yes, Python is a case-sensitive language,"
   ]
  },
  {
   "cell_type": "code",
   "execution_count": null,
   "id": "6ae29ba5-d24b-452f-b01f-4a28c6e46d15",
   "metadata": {},
   "outputs": [],
   "source": [
    "Q4.what is the correct extension of the python file?\n",
    "\n",
    "Ans=>(. py, . pyi )"
   ]
  },
  {
   "cell_type": "code",
   "execution_count": null,
   "id": "306b41c7-d5c7-45b9-ae85-7784ef2be04f",
   "metadata": {},
   "outputs": [],
   "source": [
    "Q5.Is python code compiled or interpreted?\n",
    "\n",
    "Ans=>Python code is interpreted because the source code of \n",
    "a Python program is converted into bytecode that\n",
    "is then executed by the Python virtual machine."
   ]
  },
  {
   "cell_type": "markdown",
   "id": "5b263e80-ff9e-4002-a2aa-c0bdad220986",
   "metadata": {},
   "source": [
    "Q6.Name a few blocks of code used to define in python language?\n",
    "\n",
    "Ans=>"
   ]
  },
  {
   "cell_type": "code",
   "execution_count": 4,
   "id": "949a26b2-f4d7-464e-8625-fbd3591f0ebf",
   "metadata": {},
   "outputs": [
    {
     "name": "stdin",
     "output_type": "stream",
     "text": [
      "How old are you?  12\n"
     ]
    },
    {
     "name": "stdout",
     "output_type": "stream",
     "text": [
      " child fare\n"
     ]
    }
   ],
   "source": [
    "\"\"\"indetation is used to define\"\"\"\n",
    "age = int(input('How old are you? '))\n",
    "if age <= 2:\n",
    "    print(' free')\n",
    "elif 2 < age < 13:\n",
    "    print('child fare')\n",
    "else:\n",
    "    print('adult fare')"
   ]
  },
  {
   "cell_type": "code",
   "execution_count": null,
   "id": "e8415b35-eb07-4866-9e3a-9107638fd333",
   "metadata": {},
   "outputs": [],
   "source": [
    "Q7.state a character used to give single line comments in python?\n",
    "\n",
    "Ans=>We can write a single-line comment by adding a single # character before any\n",
    "statement or line of code."
   ]
  },
  {
   "cell_type": "code",
   "execution_count": null,
   "id": "5908fbcb-9dec-4d4c-a7e6-cd5f7456086f",
   "metadata": {},
   "outputs": [],
   "source": [
    "Q8.Mention functions which can help us to find the vesrsion of python \n",
    "   that we are currently working on?\n",
    "    \n",
    "Ans=>1.sys.version\n",
    "     2.python_version() function\n",
    "     3.Python -V command(in command prompt)"
   ]
  },
  {
   "cell_type": "code",
   "execution_count": null,
   "id": "127f1f4a-5a71-4bf9-a93a-23b3a215b4ef",
   "metadata": {},
   "outputs": [],
   "source": [
    "Q9.Pyton supports the creation of anonymous functions at runtime,\n",
    "using a construct callled \n",
    "\n",
    "Ans=>lambda"
   ]
  },
  {
   "cell_type": "code",
   "execution_count": null,
   "id": "1769d224-bcba-4cf6-812d-4d72d698aa41",
   "metadata": {},
   "outputs": [],
   "source": [
    "Q10.What does pip stands for python?\n",
    "\n",
    "Ans=>pip stands for preferred installer program."
   ]
  },
  {
   "cell_type": "code",
   "execution_count": null,
   "id": "39bd2591-bfe5-44da-a88b-f34e88cd7aba",
   "metadata": {},
   "outputs": [],
   "source": [
    "Q11.Mention a few built in functions in python?\n",
    "\n",
    "Ans=>print( ) function\n",
    "type( ) function\n",
    "input( ) function\n",
    "abs( ) function\n",
    "pow( ) function\n",
    "dir( ) function\n",
    "sorted( ) function\n",
    "max( ) function\n",
    "round( ) function\n",
    "divmod( ) function\n",
    "id( ) function\n",
    "ord( ) function\n",
    "len( ) function\n",
    "sum( ) function\n",
    "help( ) function"
   ]
  },
  {
   "cell_type": "code",
   "execution_count": null,
   "id": "2646af77-c933-4844-8150-7587a66370b1",
   "metadata": {},
   "outputs": [],
   "source": [
    "Q12.What is maximum possible length of an identifier in python?\n",
    "\n",
    "Ans=>79 characters is maximum possible length of an identifier in python."
   ]
  },
  {
   "cell_type": "code",
   "execution_count": null,
   "id": "3ca4de32-cadb-4520-b364-c98e00fe8755",
   "metadata": {},
   "outputs": [],
   "source": [
    "Q13.What are the benefits of using python?\n",
    "\n",
    "Ans=>\n",
    "1.One of the top benefits of Python is that it is easy to learn and fun to use.\n",
    "2.Its syntax, unlike most computer languages, reads like English, so it isn’t as stressful\n",
    "  to learn as other programming languages. \n",
    "3.it is simple to use.\n",
    "4.It handles complexity nicely so you can focus on learning the benefits of Python programming,\n",
    "  not the hassles of the minute details. And to top it all off, it’s free and open-sourced.\n",
    "5.Flexibility,security and also used in many industries.\n"
   ]
  },
  {
   "cell_type": "code",
   "execution_count": null,
   "id": "6e72d99c-2608-42bc-a355-e7e499086c70",
   "metadata": {},
   "outputs": [],
   "source": [
    "Q14.How memory is managed in python?\n",
    "\n",
    "Ans=>Python uses a portion of the memory for internal use and non-object memory.\n",
    "Another part of the memory is used for Python object such as int, dict, list, etc.\n",
    "CPython contains the object allocator that allocates memory within the object area.\n",
    "The object allocator gets a call every time the new object needs space."
   ]
  },
  {
   "cell_type": "code",
   "execution_count": null,
   "id": "7c930f81-fef3-4ce0-b23a-c86f58d9212f",
   "metadata": {},
   "outputs": [],
   "source": [
    "Q15.How to install python on windows and set path variables?\n",
    "\n",
    "Ans=>First open Environment variable and then In the section entitled User Variables, \n",
    "double-click on the entry that says Path. Another window will pop up showing\n",
    "a list of paths. Click the New button and paste the path to your Python executable there.\n",
    "Once that’s inserted, select your newly added path and click the\n",
    "Move Up button until it’s at the top."
   ]
  },
  {
   "cell_type": "code",
   "execution_count": null,
   "id": "ba05dc63-45a5-45df-8e4e-eef80b545433",
   "metadata": {},
   "outputs": [],
   "source": [
    "Q16.is indentation required in python?\n",
    "\n",
    "Ans=>Indentation refers to the spaces at the beginning of a code line.\n",
    "Where in other programming languages the indentation in code is for readability only,\n",
    "the indentation in Python is very important.\n",
    "Python uses indentation to indicate a block of code."
   ]
  }
 ],
 "metadata": {
  "kernelspec": {
   "display_name": "Python 3 (ipykernel)",
   "language": "python",
   "name": "python3"
  },
  "language_info": {
   "codemirror_mode": {
    "name": "ipython",
    "version": 3
   },
   "file_extension": ".py",
   "mimetype": "text/x-python",
   "name": "python",
   "nbconvert_exporter": "python",
   "pygments_lexer": "ipython3",
   "version": "3.10.8"
  }
 },
 "nbformat": 4,
 "nbformat_minor": 5
}

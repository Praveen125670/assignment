{
 "cells": [
  {
   "cell_type": "code",
   "execution_count": null,
   "id": "b49c89cf-1ede-40d4-904b-43e76564237f",
   "metadata": {},
   "outputs": [],
   "source": [
    "#  Q1. Which function is used to open a file? What are the different modes of opening a file? Explain each mode of file opening.\n",
    "# Ans-> the open() function is used to open the file.\n",
    "#  different modes are as follow \n",
    "\n",
    "'r'       open for reading (default)\n",
    "'w'       open for writing, truncating the file first\n",
    "'x'       create a new file and open it for writing\n",
    "'a'       open for writing, appending to the end of the file if it exists\n",
    "'b'       binary mode\n",
    "'t'       text mode (default)\n",
    "'+'       open a disk file for updating (reading and writing)"
   ]
  },
  {
   "cell_type": "code",
   "execution_count": null,
   "id": "cbf0dac2-7487-4544-b003-1e595d781914",
   "metadata": {},
   "outputs": [],
   "source": []
  },
  {
   "cell_type": "code",
   "execution_count": null,
   "id": "3abeeb7d-e9b5-4ba1-b6db-3a290bf645b2",
   "metadata": {},
   "outputs": [],
   "source": [
    "# Q2. Why close() function is used? Why is it important to close a file?\n",
    "# ans-> The close() method closes an open file.\n",
    "#      You should always close your files, in some cases, due to buffering, changes made to a file may not show until you close the file."
   ]
  },
  {
   "cell_type": "code",
   "execution_count": null,
   "id": "cfae687b-d4c5-49c0-a3d4-c4a4b19a9b71",
   "metadata": {},
   "outputs": [],
   "source": []
  },
  {
   "cell_type": "code",
   "execution_count": null,
   "id": "cfcbf8d5-68c6-4f54-89c7-798ef2fe60e8",
   "metadata": {},
   "outputs": [],
   "source": [
    "# Q3. Write a python program to create a text file. Write ‘I want to become a Data Scientist’ in that file. Then close the file.\n",
    "#     Open this file and read the content of the file. \n",
    "# Ans-> "
   ]
  },
  {
   "cell_type": "code",
   "execution_count": 8,
   "id": "11a6bab7-f557-43b8-ad7e-834821fcde5c",
   "metadata": {},
   "outputs": [],
   "source": [
    "f2=open(\"testing.txt\",'x')"
   ]
  },
  {
   "cell_type": "code",
   "execution_count": 9,
   "id": "c8379b29-acf5-4cff-abb5-15b1df8d7a38",
   "metadata": {},
   "outputs": [
    {
     "data": {
      "text/plain": [
       "31"
      ]
     },
     "execution_count": 9,
     "metadata": {},
     "output_type": "execute_result"
    }
   ],
   "source": [
    "f2.write(\"i want to become data scientist\")"
   ]
  },
  {
   "cell_type": "code",
   "execution_count": 10,
   "id": "1bafb9cc-e177-44d3-a697-d568b2c14a3f",
   "metadata": {},
   "outputs": [],
   "source": [
    "f2.close()"
   ]
  },
  {
   "cell_type": "code",
   "execution_count": 16,
   "id": "e3faf16f-12fc-4788-b457-e632c9f3178c",
   "metadata": {},
   "outputs": [
    {
     "data": {
      "text/plain": [
       "'i want to become data scientist'"
      ]
     },
     "execution_count": 16,
     "metadata": {},
     "output_type": "execute_result"
    }
   ],
   "source": [
    "f2.read()"
   ]
  },
  {
   "cell_type": "code",
   "execution_count": null,
   "id": "e6b82eb4-18b6-4cc5-981d-e15397a4cc33",
   "metadata": {},
   "outputs": [],
   "source": []
  },
  {
   "cell_type": "code",
   "execution_count": null,
   "id": "7acb7b7c-7f89-48dd-891b-f6639a07710f",
   "metadata": {},
   "outputs": [],
   "source": [
    "# Q4. Explain the following with python code: read(), readline() and readlines().\n",
    "# ans->  \n",
    "\n",
    "# here in above code read() function is used to read the content of the file.\n",
    "f2.read()"
   ]
  },
  {
   "cell_type": "code",
   "execution_count": 29,
   "id": "7790ece6-d183-4d83-a8bc-959c68b72ad4",
   "metadata": {},
   "outputs": [],
   "source": [
    "# readline()\n",
    "# eg-> Python readline() method will return a line from the file when called.\n"
   ]
  },
  {
   "cell_type": "code",
   "execution_count": 44,
   "id": "6978c184-e337-4614-8bc9-3cb45335ae51",
   "metadata": {},
   "outputs": [],
   "source": [
    "f3=open(\"test12.txt\",'x')"
   ]
  },
  {
   "cell_type": "code",
   "execution_count": 45,
   "id": "d03fdeba-2f04-460f-8963-85c5132bc63c",
   "metadata": {},
   "outputs": [
    {
     "data": {
      "text/plain": [
       "61"
      ]
     },
     "execution_count": 45,
     "metadata": {},
     "output_type": "execute_result"
    }
   ],
   "source": [
    "f3.write(\"Python is the best programming language in the world in 2020 \")"
   ]
  },
  {
   "cell_type": "code",
   "execution_count": 55,
   "id": "a72efd0b-68ec-4509-9580-82472bd68fe0",
   "metadata": {},
   "outputs": [
    {
     "data": {
      "text/plain": [
       "'Python is the best programming language in the world in 2020 '"
      ]
     },
     "execution_count": 55,
     "metadata": {},
     "output_type": "execute_result"
    }
   ],
   "source": [
    "f3=open(\"test12.txt\",'r')\n",
    "f3.readline()"
   ]
  },
  {
   "cell_type": "code",
   "execution_count": 47,
   "id": "cfd6ff1a-da81-4182-accf-f0f03addfeb0",
   "metadata": {},
   "outputs": [],
   "source": [
    "# readlines()\n",
    "# eg->  readlines() method will return all the lines in a file in the format of a list where each element is a line in the file."
   ]
  },
  {
   "cell_type": "code",
   "execution_count": 56,
   "id": "f0352484-3510-4f61-be8e-e1df82df08db",
   "metadata": {},
   "outputs": [
    {
     "data": {
      "text/plain": [
       "['Python is the best programming language in the world in 2020 ']"
      ]
     },
     "execution_count": 56,
     "metadata": {},
     "output_type": "execute_result"
    }
   ],
   "source": [
    "f3=open(\"test12.txt\",'r')\n",
    "f3.readlines()"
   ]
  },
  {
   "cell_type": "code",
   "execution_count": null,
   "id": "c29c085a-4052-4d96-9dac-0f6d7b0cbc96",
   "metadata": {},
   "outputs": [],
   "source": []
  },
  {
   "cell_type": "code",
   "execution_count": null,
   "id": "b321067f-77aa-449b-ac5d-079175041f15",
   "metadata": {},
   "outputs": [],
   "source": [
    "#  Q5. Explain why with statement is used with open(). What is the advantage of using with statement and open() together?\n",
    "#  Ans-> The with statement closes the file for you without you telling it to.\n",
    "#        This is because the with statement calls 2 built-in methods behind the scene – __enter()__ and __exit()__.\n",
    "#        The __exit()__ method closes the file when the operation you specify is done and we don't require to use close method."
   ]
  },
  {
   "cell_type": "code",
   "execution_count": null,
   "id": "ee3314e8-ab81-4969-bca3-d0a564872f1e",
   "metadata": {},
   "outputs": [],
   "source": []
  },
  {
   "cell_type": "code",
   "execution_count": 57,
   "id": "e950256f-546c-4556-a423-7a5e6509e0e5",
   "metadata": {},
   "outputs": [],
   "source": [
    "#  Q6. Explain the write() and writelines() functions. Give a suitable example.\n",
    "#  Ans-> write()  -> write() is used to write the text which we want to write in the file as of the choice.\n",
    "j=open(\"cart.txt\",'x')"
   ]
  },
  {
   "cell_type": "code",
   "execution_count": 59,
   "id": "03860b85-1a78-4c18-81a8-7259dfdd0524",
   "metadata": {},
   "outputs": [
    {
     "data": {
      "text/plain": [
       "16"
      ]
     },
     "execution_count": 59,
     "metadata": {},
     "output_type": "execute_result"
    }
   ],
   "source": [
    "j.write(\"file is created \")"
   ]
  },
  {
   "cell_type": "code",
   "execution_count": 60,
   "id": "dae93bd9-9241-4fe1-adf4-cd263e3bcdcd",
   "metadata": {},
   "outputs": [],
   "source": [
    "j.close()"
   ]
  },
  {
   "cell_type": "code",
   "execution_count": null,
   "id": "ea8247aa-5cf8-4491-8257-9b985b0ad3b5",
   "metadata": {},
   "outputs": [],
   "source": [
    "#   writelines()->  This function writes the content of a list to a file."
   ]
  },
  {
   "cell_type": "code",
   "execution_count": 61,
   "id": "8edbb18f-f0e7-4ff3-bdce-0ec0f5cc8b41",
   "metadata": {},
   "outputs": [
    {
     "name": "stdin",
     "output_type": "stream",
     "text": [
      "Enter the name of the employee:  rahul\n",
      "Enter the name of the employee:  raju\n",
      "Enter the name of the employee:  ramesh\n"
     ]
    },
    {
     "name": "stdout",
     "output_type": "stream",
     "text": [
      "Data is written into the file.\n"
     ]
    }
   ],
   "source": [
    "file1 = open(\"Employees.txt\", \"w\")\n",
    "lst = []\n",
    "for i in range(3):\n",
    "    name = input(\"Enter the name of the employee: \")\n",
    "    lst.append(name + '\\n')\n",
    "      \n",
    "file1.writelines(lst)\n",
    "file1.close()\n",
    "print(\"Data is written into the file.\") "
   ]
  },
  {
   "cell_type": "code",
   "execution_count": null,
   "id": "c4c36b85-0ae4-4d66-a095-965f6cf05502",
   "metadata": {},
   "outputs": [],
   "source": []
  }
 ],
 "metadata": {
  "kernelspec": {
   "display_name": "Python 3 (ipykernel)",
   "language": "python",
   "name": "python3"
  },
  "language_info": {
   "codemirror_mode": {
    "name": "ipython",
    "version": 3
   },
   "file_extension": ".py",
   "mimetype": "text/x-python",
   "name": "python",
   "nbconvert_exporter": "python",
   "pygments_lexer": "ipython3",
   "version": "3.10.8"
  }
 },
 "nbformat": 4,
 "nbformat_minor": 5
}

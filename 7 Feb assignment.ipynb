{
 "cells": [
  {
   "cell_type": "code",
   "execution_count": 1,
   "id": "48009fd1-2b5f-4245-9e46-73d8cd2d9351",
   "metadata": {},
   "outputs": [
    {
     "name": "stdin",
     "output_type": "stream",
     "text": [
      "Enter the password :  #PraveeN123\n"
     ]
    },
    {
     "name": "stdout",
     "output_type": "stream",
     "text": [
      "Invalid Password \n"
     ]
    }
   ],
   "source": [
    "#Q1. You are writing code for a company. The requirement of the company is that you create a python function that will check whether the password entered by \n",
    "#     the user is correct or not. The function should take the password as input and return the string “Valid Password” if the entered password follows the\n",
    "#    below-given password guidelines else it should return “Invalid Password”.\n",
    "\n",
    "# Note: 1. The Password should contain at least two uppercase letters and at least two lowercase letters.\n",
    "# 2. The Password should contain at least a number and three special characters.\n",
    "# 3. The length of the password should be 10 characters long.\n",
    "import re\n",
    "import string\n",
    "\n",
    "def pass_word():\n",
    "    spec=string.punctuation\n",
    "    password=input(\"Enter the password : \")\n",
    "    \n",
    "        \n",
    "    if  len(password)<10:\n",
    "        print(\"Invalid Password \")\n",
    "            \n",
    "    elif len(re.findall('[A-Z]',password)) < 2 :\n",
    "        print(\"Invalid Password \")\n",
    "            \n",
    "    elif len(re.findall('[a-z]',password)) <2:\n",
    "        print(\"Invalid Password \")\n",
    "            \n",
    "    elif len([i for i in password if i in spec]) <3:\n",
    "        print(\"Invalid Password \")\n",
    "            \n",
    "    elif re.search('[0-9]',password) is   None:\n",
    "            print(\"Invalid Password \")\n",
    "            \n",
    "    else :\n",
    "        print(\"Valid Password \")\n",
    "        pass\n",
    "        \n",
    "pass_word()\n",
    "        "
   ]
  },
  {
   "cell_type": "code",
   "execution_count": null,
   "id": "995b3c10-0296-4bbf-b6cc-2759f32b082f",
   "metadata": {},
   "outputs": [],
   "source": []
  },
  {
   "cell_type": "code",
   "execution_count": 39,
   "id": "72ffd09c-ff1d-49b5-b137-f4595df7cc2c",
   "metadata": {},
   "outputs": [
    {
     "name": "stdin",
     "output_type": "stream",
     "text": [
      "Enter the string upper\n"
     ]
    },
    {
     "data": {
      "text/plain": [
       "True"
      ]
     },
     "execution_count": 39,
     "metadata": {},
     "output_type": "execute_result"
    }
   ],
   "source": [
    "# Q2. Solve the below-given questions using at least one of the following:\n",
    "# 1. Lambda function\n",
    "# 2. Filter function\n",
    "# 3. Map function\n",
    "# 4. List Comprehension\n",
    "\n",
    "\n",
    "# Check if the string starts with a particular letter.\n",
    "# Ans->\n",
    "t=input(\"Enter the string\")\n",
    "string=map(lambda x: x[0]==\"U\" or x[0]== \"u\",t)\n",
    "next(string)"
   ]
  },
  {
   "cell_type": "code",
   "execution_count": 35,
   "id": "9d2df6da-d034-44e4-8490-ab766d1800e9",
   "metadata": {},
   "outputs": [
    {
     "name": "stdin",
     "output_type": "stream",
     "text": [
      "Enter 1234\n"
     ]
    },
    {
     "data": {
      "text/plain": [
       "True"
      ]
     },
     "execution_count": 35,
     "metadata": {},
     "output_type": "execute_result"
    }
   ],
   "source": [
    "#  Check if the string is numeric.\n",
    "#Ans->\n",
    "t=input(\"Enter\")\n",
    "digit=map(lambda x : x.isdigit(),t)\n",
    "next(digit)"
   ]
  },
  {
   "cell_type": "code",
   "execution_count": 48,
   "id": "e2e52d8b-a997-4a29-916c-4a95c9eac7ae",
   "metadata": {},
   "outputs": [
    {
     "name": "stdout",
     "output_type": "stream",
     "text": [
      "[('orange', 80), ('mango', 99), ('grapes', 1000)]\n"
     ]
    }
   ],
   "source": [
    "# Sort a list of tuples having fruit names and their quantity.[(\"mango\",99),(\"orange\",80), (\"grapes\", 1000)]\"\"\"\n",
    "# Ans-> \n",
    "\n",
    "l1=[(\"mango\",99),(\"orange\",80), (\"grapes\", 1000)]\n",
    "l1.sort(key=lambda x: x[0],reverse=True)\n",
    "print(l1)"
   ]
  },
  {
   "cell_type": "code",
   "execution_count": 49,
   "id": "c8b3f174-db45-40c6-ac66-b58d24b96450",
   "metadata": {},
   "outputs": [
    {
     "data": {
      "text/plain": [
       "[1, 4, 9, 16, 25, 36, 49, 64, 81, 100]"
      ]
     },
     "execution_count": 49,
     "metadata": {},
     "output_type": "execute_result"
    }
   ],
   "source": [
    "# Find the squares of numbers from 1 to 10.\n",
    "# Ans->\n",
    "l3=range(1,11)\n",
    "[i**2 for i in l3]"
   ]
  },
  {
   "cell_type": "code",
   "execution_count": 51,
   "id": "39231f65-f71e-4999-95a0-41159b96e3a1",
   "metadata": {},
   "outputs": [
    {
     "data": {
      "text/plain": [
       "[1, 8, 27, 64, 125, 216, 343, 512, 729, 1000]"
      ]
     },
     "execution_count": 51,
     "metadata": {},
     "output_type": "execute_result"
    }
   ],
   "source": [
    "# Find the cube root of numbers from 1 to 10.\n",
    "# Ans-> \n",
    "l4=range(1,11)\n",
    "[i**3 for i in l4]"
   ]
  },
  {
   "cell_type": "code",
   "execution_count": 84,
   "id": "5caf2d64-9d4a-4fdc-a428-12820f163736",
   "metadata": {},
   "outputs": [
    {
     "name": "stdin",
     "output_type": "stream",
     "text": [
      "enter the number :  3\n"
     ]
    },
    {
     "name": "stdout",
     "output_type": "stream",
     "text": [
      "odd\n"
     ]
    }
   ],
   "source": [
    "# Check if a given number is even.\n",
    "# Ans-> \n",
    "l5=int(input(\"enter the number : \"))\n",
    "l6=[]\n",
    "l6.append(l5)\n",
    "num=map(lambda x:\"even\" if x%2==0 else \"odd\",l6)\n",
    "for i in  num:\n",
    "    print(i)\n"
   ]
  },
  {
   "cell_type": "code",
   "execution_count": 85,
   "id": "8d7623fd-629d-4461-8dc2-2b47a10c7ab2",
   "metadata": {},
   "outputs": [
    {
     "data": {
      "text/plain": [
       "[1, 3, 5, 7, 9]"
      ]
     },
     "execution_count": 85,
     "metadata": {},
     "output_type": "execute_result"
    }
   ],
   "source": [
    "# Filter odd numbers from the given list.[1,2,3,4,5,6,7,8,9,10]\n",
    "# Ans->\n",
    "l=[1,2,3,4,5,6,7,8,9,10]\n",
    "list(filter(lambda x: x%2!=0,l))\n"
   ]
  },
  {
   "cell_type": "code",
   "execution_count": 94,
   "id": "884bed07-b56b-4550-a338-77fd14e93d94",
   "metadata": {},
   "outputs": [
    {
     "name": "stdout",
     "output_type": "stream",
     "text": [
      "[1, 2, 3, 4, 5, 6]\n",
      "[-1, -2, -3, -4, -5]\n"
     ]
    }
   ],
   "source": [
    "# Sort a list of integers into positive and negative integers lists [1,2,3,4,5,6,-1,-2,-3,-4,-5,0].\n",
    "# Ans-> \n",
    "l=[1,2,3,4,5,6,-1,-2,-3,-4,-5,0]\n",
    "positive_num=list(filter(lambda x: x>0,l ))\n",
    "negative_num=list(filter(lambda x: x<0,l ))\n",
    "print(positive_num)\n",
    "print(negative_num)\n"
   ]
  },
  {
   "cell_type": "code",
   "execution_count": null,
   "id": "3f5d8772-7077-45a1-9e1f-571f90bb3ea1",
   "metadata": {},
   "outputs": [],
   "source": []
  }
 ],
 "metadata": {
  "kernelspec": {
   "display_name": "Python 3 (ipykernel)",
   "language": "python",
   "name": "python3"
  },
  "language_info": {
   "codemirror_mode": {
    "name": "ipython",
    "version": 3
   },
   "file_extension": ".py",
   "mimetype": "text/x-python",
   "name": "python",
   "nbconvert_exporter": "python",
   "pygments_lexer": "ipython3",
   "version": "3.10.8"
  }
 },
 "nbformat": 4,
 "nbformat_minor": 5
}

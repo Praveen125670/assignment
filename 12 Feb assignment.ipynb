{
 "cells": [
  {
   "cell_type": "code",
   "execution_count": null,
   "id": "1184d0e6-af2c-4bea-88ec-df32ad2af775",
   "metadata": {},
   "outputs": [],
   "source": [
    "# Q1. What is an Exception in python? Write the difference between Exceptions and syntax errors.\n",
    "\n",
    "# Ans-> An exception is an event, which occurs during the execution of a program that disrupts the normal flow of the program's instructions. \n",
    "#       In general, when a Python script encounters a situation that it cannot cope with, it raises an exception. An exception is a Python object that represents an error.\n",
    "#       SyntaxError: raised by the parser when the Python syntax is wrong. \n"
   ]
  },
  {
   "cell_type": "code",
   "execution_count": 1,
   "id": "0d58c360-7527-406f-95fa-03bf338f339d",
   "metadata": {},
   "outputs": [],
   "source": [
    "# Q2. What happens when an exception is not handled? Explain with an example.\n",
    "\n",
    "# Ans-> If the exception is not handled by an except clause, the exception is re-raised after the finally clause has been executed.\n",
    "\n",
    "def divide(x, y):\n",
    "    try:\n",
    "        result = x / y\n",
    "    except ZeroDivisionError:\n",
    "        print(\"division by zero!\")\n",
    "    else:\n",
    "        print(\"result is\", result)\n",
    "    finally:\n",
    "        print(\"executing finally clause\")"
   ]
  },
  {
   "cell_type": "code",
   "execution_count": 2,
   "id": "0aaaa04a-244b-4fa8-bd60-5a74a39517a2",
   "metadata": {},
   "outputs": [
    {
     "name": "stdout",
     "output_type": "stream",
     "text": [
      "result is 2.0\n",
      "executing finally clause\n"
     ]
    }
   ],
   "source": [
    "divide(2,1)"
   ]
  },
  {
   "cell_type": "code",
   "execution_count": 3,
   "id": "a1649bcc-00cd-4d74-b247-04765df185af",
   "metadata": {},
   "outputs": [
    {
     "name": "stdout",
     "output_type": "stream",
     "text": [
      "division by zero!\n",
      "executing finally clause\n"
     ]
    }
   ],
   "source": [
    "divide(2,0)"
   ]
  },
  {
   "cell_type": "code",
   "execution_count": 4,
   "id": "f66ed01e-5d08-4473-85e1-ad0b554eb7ea",
   "metadata": {},
   "outputs": [
    {
     "name": "stdout",
     "output_type": "stream",
     "text": [
      "executing finally clause\n"
     ]
    },
    {
     "ename": "TypeError",
     "evalue": "unsupported operand type(s) for /: 'str' and 'str'",
     "output_type": "error",
     "traceback": [
      "\u001b[0;31m---------------------------------------------------------------------------\u001b[0m",
      "\u001b[0;31mTypeError\u001b[0m                                 Traceback (most recent call last)",
      "Cell \u001b[0;32mIn[4], line 1\u001b[0m\n\u001b[0;32m----> 1\u001b[0m \u001b[43mdivide\u001b[49m\u001b[43m(\u001b[49m\u001b[38;5;124;43m\"\u001b[39;49m\u001b[38;5;124;43m2\u001b[39;49m\u001b[38;5;124;43m\"\u001b[39;49m\u001b[43m,\u001b[49m\u001b[38;5;124;43m\"\u001b[39;49m\u001b[38;5;124;43m1\u001b[39;49m\u001b[38;5;124;43m\"\u001b[39;49m\u001b[43m)\u001b[49m\n",
      "Cell \u001b[0;32mIn[1], line 7\u001b[0m, in \u001b[0;36mdivide\u001b[0;34m(x, y)\u001b[0m\n\u001b[1;32m      5\u001b[0m \u001b[38;5;28;01mdef\u001b[39;00m \u001b[38;5;21mdivide\u001b[39m(x, y):\n\u001b[1;32m      6\u001b[0m     \u001b[38;5;28;01mtry\u001b[39;00m:\n\u001b[0;32m----> 7\u001b[0m         result \u001b[38;5;241m=\u001b[39m \u001b[43mx\u001b[49m\u001b[43m \u001b[49m\u001b[38;5;241;43m/\u001b[39;49m\u001b[43m \u001b[49m\u001b[43my\u001b[49m\n\u001b[1;32m      8\u001b[0m     \u001b[38;5;28;01mexcept\u001b[39;00m \u001b[38;5;167;01mZeroDivisionError\u001b[39;00m:\n\u001b[1;32m      9\u001b[0m         \u001b[38;5;28mprint\u001b[39m(\u001b[38;5;124m\"\u001b[39m\u001b[38;5;124mdivision by zero!\u001b[39m\u001b[38;5;124m\"\u001b[39m)\n",
      "\u001b[0;31mTypeError\u001b[0m: unsupported operand type(s) for /: 'str' and 'str'"
     ]
    }
   ],
   "source": [
    "divide(\"2\",\"1\")"
   ]
  },
  {
   "cell_type": "code",
   "execution_count": null,
   "id": "1cd3033e-d6f1-4813-933d-d4b62f0c755a",
   "metadata": {},
   "outputs": [],
   "source": [
    "#    As you can see, the finally clause is executed in any event. The TypeError raised by dividing two strings is not handled by the except clause\n",
    "#   and therefore re-raised after the finally clause has been executed."
   ]
  },
  {
   "cell_type": "code",
   "execution_count": null,
   "id": "c4bfaaf7-572d-44c5-8da1-08ac5527c668",
   "metadata": {},
   "outputs": [],
   "source": []
  },
  {
   "cell_type": "code",
   "execution_count": 26,
   "id": "1fdf4049-80d8-4176-8d47-172bf5f4c166",
   "metadata": {},
   "outputs": [],
   "source": [
    "# Q3. Which Python statements are used to catch and handle exceptions? Explain with an exmaple.\n",
    "\n",
    "# Ans-> The try and except block in Python is used to catch and handle exceptions.\n",
    "def age_count(age):\n",
    "    try:\n",
    "        if age>0:\n",
    "            print(\"age is \" ,age)\n",
    "    except :\n",
    "        raise(\"age is negative\")"
   ]
  },
  {
   "cell_type": "code",
   "execution_count": 28,
   "id": "b7dc0241-02a3-4e53-8d70-05ea630999ad",
   "metadata": {},
   "outputs": [
    {
     "name": "stdout",
     "output_type": "stream",
     "text": [
      "age is  9\n"
     ]
    }
   ],
   "source": [
    "age_count(9)"
   ]
  },
  {
   "cell_type": "code",
   "execution_count": null,
   "id": "3d7312c4-fa33-4652-98f7-119005f73dbb",
   "metadata": {},
   "outputs": [],
   "source": []
  },
  {
   "cell_type": "code",
   "execution_count": 30,
   "id": "df4b3ffa-a7a0-407c-b4cb-3a1531dcda30",
   "metadata": {},
   "outputs": [
    {
     "name": "stdout",
     "output_type": "stream",
     "text": [
      "text is get written in the file\n",
      "this the file\n"
     ]
    }
   ],
   "source": [
    "\"\"\" Q4. Explain with an example:\n",
    "      a. try and else \n",
    "      b. finally \n",
    "      c. raise \"\"\"\n",
    "\n",
    "#Ans-> \n",
    "try :\n",
    "    f=open(\"app.txt\",'w')\n",
    "    f.write( \"writing text inside\")\n",
    "    \n",
    "except Exception as e:\n",
    "    print(\"this is my except block\")\n",
    "    \n",
    "else:\n",
    "    f.close()\n",
    "    print(\"text is get written in the file\")\n",
    "    \n",
    "finally:\n",
    "    print(\"this the file\")"
   ]
  },
  {
   "cell_type": "code",
   "execution_count": 36,
   "id": "1fe5ef87-6da3-4a37-b585-9f6e5aff874b",
   "metadata": {},
   "outputs": [],
   "source": [
    "class check_num(Exception):\n",
    "    def __init__(self,num):\n",
    "        self.num=num"
   ]
  },
  {
   "cell_type": "code",
   "execution_count": 37,
   "id": "bb3eafb4-cce7-4e8d-8b3d-1590f5429390",
   "metadata": {},
   "outputs": [],
   "source": [
    "def check_num1(num):\n",
    "    if num<0 :\n",
    "        raise check_num(\"number is negative\")\n",
    "    else :\n",
    "        raise check_num(\"number is greater in 0\")\n",
    "        "
   ]
  },
  {
   "cell_type": "code",
   "execution_count": 38,
   "id": "563204c0-fd17-448d-bf1e-ffe22afd49d9",
   "metadata": {},
   "outputs": [
    {
     "name": "stdin",
     "output_type": "stream",
     "text": [
      "enter the number 98\n"
     ]
    },
    {
     "name": "stdout",
     "output_type": "stream",
     "text": [
      "number is greater in 0\n"
     ]
    }
   ],
   "source": [
    "try:\n",
    "    num=int(input(\"enter the number\"))\n",
    "    check_num1(num)\n",
    "\n",
    "except check_num as e:\n",
    "    print(e)\n",
    "    "
   ]
  },
  {
   "cell_type": "code",
   "execution_count": null,
   "id": "5fe4d9ae-72dc-4304-a87f-e3f898fe39ff",
   "metadata": {},
   "outputs": [],
   "source": []
  },
  {
   "cell_type": "code",
   "execution_count": 1,
   "id": "95cd8ce0-4930-4103-95d9-9fc4d4b0eb99",
   "metadata": {},
   "outputs": [],
   "source": [
    "# Q5. What are Custom Exceptions in python? What do we need Custom Exceptions? Explin with an exmple.\n",
    "# Ans-> custom exception are also classes , in custom exception raise function are used.it inherit from the \n",
    "#       Built-in exceptions offer information about Python-related problems, and custom exceptions will add information about project-related problems. \n",
    "#       That way, you can design your code (and traceback, if an exception is raised) in a way that combines Python code with the language of the project.\n",
    "\n",
    "class check_num_2(Exception):\n",
    "    def __init__(self,num):\n",
    "        self.num=num"
   ]
  },
  {
   "cell_type": "code",
   "execution_count": 2,
   "id": "91d5aa46-42fb-455b-8c2a-7b495dc43453",
   "metadata": {},
   "outputs": [],
   "source": [
    "def check_num1(num):\n",
    "    if num<0 :\n",
    "        raise check_num_2(\"number is negative\")\n",
    "    else :\n",
    "        raise check_num_2(\"number is greater in 0\")\n",
    "        "
   ]
  },
  {
   "cell_type": "code",
   "execution_count": 3,
   "id": "0e3a223f-8b90-4454-8e01-da40159f9a8c",
   "metadata": {},
   "outputs": [
    {
     "name": "stdin",
     "output_type": "stream",
     "text": [
      "enter the number -65\n"
     ]
    },
    {
     "name": "stdout",
     "output_type": "stream",
     "text": [
      "number is negative\n"
     ]
    }
   ],
   "source": [
    "try:\n",
    "    num=int(input(\"enter the number\"))\n",
    "    check_num1(num)\n",
    "\n",
    "except check_num_2 as e:\n",
    "    print(e)\n",
    "    "
   ]
  },
  {
   "cell_type": "code",
   "execution_count": null,
   "id": "2a4a721f-05b6-4b45-aedd-ee30d6d553a8",
   "metadata": {},
   "outputs": [],
   "source": []
  },
  {
   "cell_type": "code",
   "execution_count": 4,
   "id": "37d8afce-40ce-4d87-b618-00f22467ed59",
   "metadata": {},
   "outputs": [],
   "source": [
    "# Q6. Crete a custom exception class. Use this class to handle an exception.\n",
    "\n",
    "# Ans-> \n",
    "class check_num_3(Exception):\n",
    "    def __init__(self,num):\n",
    "        self.num=num"
   ]
  },
  {
   "cell_type": "code",
   "execution_count": 5,
   "id": "b3f930df-e27c-4b7b-9705-1049a6c825ea",
   "metadata": {},
   "outputs": [],
   "source": [
    "def check_num1(num):\n",
    "    if num<0 :\n",
    "        raise check_num_3(\"number is negative\")\n",
    "    else :\n",
    "        raise check_num_3(\"number is greater in 0\")"
   ]
  },
  {
   "cell_type": "code",
   "execution_count": 6,
   "id": "410a3b3b-af02-4708-8d54-b7b151804d25",
   "metadata": {},
   "outputs": [
    {
     "name": "stdin",
     "output_type": "stream",
     "text": [
      "enter the number -765\n"
     ]
    },
    {
     "name": "stdout",
     "output_type": "stream",
     "text": [
      "number is negative\n"
     ]
    }
   ],
   "source": [
    "try:\n",
    "    num=int(input(\"enter the number\"))\n",
    "    check_num1(num)\n",
    "\n",
    "except check_num_3 as e:\n",
    "    print(e)"
   ]
  },
  {
   "cell_type": "code",
   "execution_count": null,
   "id": "e27771fc-fdd6-4b8d-a0a1-ae5e89f5bd6e",
   "metadata": {},
   "outputs": [],
   "source": []
  }
 ],
 "metadata": {
  "kernelspec": {
   "display_name": "Python 3 (ipykernel)",
   "language": "python",
   "name": "python3"
  },
  "language_info": {
   "codemirror_mode": {
    "name": "ipython",
    "version": 3
   },
   "file_extension": ".py",
   "mimetype": "text/x-python",
   "name": "python",
   "nbconvert_exporter": "python",
   "pygments_lexer": "ipython3",
   "version": "3.10.8"
  }
 },
 "nbformat": 4,
 "nbformat_minor": 5
}
